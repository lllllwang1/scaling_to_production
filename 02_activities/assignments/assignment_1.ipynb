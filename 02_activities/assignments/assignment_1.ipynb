{
 "cells": [
  {
   "cell_type": "markdown",
   "metadata": {},
   "source": [
    "# Working with parquet files\n",
    "\n",
    "## Objective\n",
    "\n",
    "+ In this assignment, we will use the data downloaded with the module `data_manager` to create features.\n",
    "\n",
    "(11 pts total)\n",
    "\n",
    "## Prerequisites\n",
    "\n",
    "+ This notebook assumes that price data is available to you in the environment variable `PRICE_DATA`. If you have not done so, then execute the notebook `production_2_data_engineering.ipynb` to create this data set.\n"
   ]
  },
  {
   "cell_type": "markdown",
   "metadata": {},
   "source": [
    "+ Load the environment variables using dotenv. (1 pt)"
   ]
  },
  {
   "cell_type": "code",
   "execution_count": 48,
   "metadata": {},
   "outputs": [
    {
     "name": "stdout",
     "output_type": "stream",
     "text": [
      "The dotenv extension is already loaded. To reload it, use:\n",
      "  %reload_ext dotenv\n"
     ]
    }
   ],
   "source": [
    "# Write your code below.\n",
    "%load_ext dotenv\n",
    "%dotenv \n",
    "\n",
    "from dotenv import load_dotenv\n",
    "load_dotenv()"
   ]
  },
  {
   "cell_type": "code",
   "execution_count": 40,
   "metadata": {},
   "outputs": [],
   "source": [
    "import dask\n",
    "dask.config.set({'dataframe.query-planning': True})\n",
    "import dask.dataframe as dd"
   ]
  },
  {
   "cell_type": "markdown",
   "metadata": {},
   "source": [
    "+ Load the environment variable `PRICE_DATA`.\n",
    "+ Use [glob](https://docs.python.org/3/library/glob.html) to find the path of all parquet files in the directory `PRICE_DATA`.\n",
    "\n",
    "(1pt)"
   ]
  },
  {
   "cell_type": "code",
   "execution_count": 73,
   "metadata": {},
   "outputs": [
    {
     "name": "stdout",
     "output_type": "stream",
     "text": [
      "PRICE_DATA ../../05_src/data/prices/\n",
      "Index(['Date', 'Open', 'High', 'Low', 'Close', 'Adj Close', 'Volume', 'sector',\n",
      "       'subsector', 'year'],\n",
      "      dtype='object')\n"
     ]
    }
   ],
   "source": [
    "import os\n",
    "from glob import glob\n",
    "\n",
    "# Write your code below.\n",
    "dask.config.set({'dataframe.query-planning': True})\n",
    "price_data_dir = os.getenv('PRICE_DATA')\n",
    "print('PRICE_DATA',price_data_dir)\n",
    "\n",
    "# Use glob to find all parquet files in the PRICE_DATA directory\n",
    "parquet_files = glob(os.path.join(price_data_dir,\"**/*.parquet/*.parquet\"))\n",
    "\n",
    "dd_px = dd.read_parquet(parquet_files).set_index(\"ticker\")\n",
    "\n",
    "print(dd_px.columns)\n"
   ]
  },
  {
   "cell_type": "markdown",
   "metadata": {},
   "source": [
    "For each ticker and using Dask, do the following:\n",
    "\n",
    "+ Add lags for variables Close and Adj_Close.\n",
    "+ Add returns based on Adjusted Close:\n",
    "    \n",
    "    - `returns`: (Adj Close / Adj Close_lag) - 1\n",
    "\n",
    "+ Add the following range: \n",
    "\n",
    "    - `hi_lo_range`: this is the day's High minus Low.\n",
    "\n",
    "+ Assign the result to `dd_feat`.\n",
    "\n",
    "(4 pt)"
   ]
  },
  {
   "cell_type": "code",
   "execution_count": 77,
   "metadata": {},
   "outputs": [
    {
     "name": "stderr",
     "output_type": "stream",
     "text": [
      "/var/folders/vb/q1bpp1t50n338507pp0hqf440000gn/T/ipykernel_19670/3073771561.py:5: UserWarning: `meta` is not specified, inferred from partial data. Please provide `meta` if the result is unexpected.\n",
      "  Before: .apply(func)\n",
      "  After:  .apply(func, meta={'x': 'f8', 'y': 'f8'}) for dataframe result\n",
      "  or:     .apply(func, meta=('x', 'f8'))            for series result\n",
      "  dd_feat = (dd_px.groupby('ticker', group_keys=False).apply(\n"
     ]
    }
   ],
   "source": [
    "# Write your code below.\n",
    "import numpy as np\n",
    "from dask.dataframe import rolling\n",
    "\n",
    "dd_feat = (dd_px.groupby('ticker', group_keys=False).apply(\n",
    "    lambda x: x.assign(Close_lag = x['Close'].shift(1), \n",
    "                       Adj_close_lag = x['Adj Close'].shift(1))\n",
    ").assign(\n",
    "    returns = lambda x: x['Adj Close']/x['Adj_close_lag'] - 1\n",
    ").assign(\n",
    "    hi_lo_range = lambda x: x['High'] - x['Low']\n",
    "))\n"
   ]
  },
  {
   "cell_type": "markdown",
   "metadata": {},
   "source": [
    "+ Convert the Dask data frame to a pandas data frame. \n",
    "+ Add a rolling average return calculation with a window of 10 days.\n",
    "+ *Tip*: Consider using `.rolling(10).mean()`.\n",
    "\n",
    "(3 pt)"
   ]
  },
  {
   "cell_type": "code",
   "execution_count": 85,
   "metadata": {},
   "outputs": [
    {
     "name": "stdout",
     "output_type": "stream",
     "text": [
      "  ticker       Date        Open        High         Low       Close  \\\n",
      "0    WAT 2018-01-02  194.119995  196.639999  193.600006  195.690002   \n",
      "1    WAT 2018-01-03  195.350006  197.940002  195.350006  197.770004   \n",
      "2    WAT 2018-01-04  198.470001  200.029999  198.360001  199.660004   \n",
      "3    WAT 2018-01-05  200.679993  202.850006  200.000000  202.229996   \n",
      "4    WAT 2018-01-08  202.279999  205.289993  200.679993  204.759995   \n",
      "\n",
      "    Adj Close  Volume       sector                       subsector  year  \\\n",
      "0  195.690002  355300  Health Care  Life Sciences Tools & Services  2018   \n",
      "1  197.770004  271700  Health Care  Life Sciences Tools & Services  2018   \n",
      "2  199.660004  337400  Health Care  Life Sciences Tools & Services  2018   \n",
      "3  202.229996  363300  Health Care  Life Sciences Tools & Services  2018   \n",
      "4  204.759995  483100  Health Care  Life Sciences Tools & Services  2018   \n",
      "\n",
      "    Close_lag  Adj_close_lag   returns  hi_lo_range  rolling_avg_return  \n",
      "0         NaN            NaN       NaN     3.039993                 NaN  \n",
      "1  195.690002     195.690002  0.010629     2.589996                 NaN  \n",
      "2  197.770004     197.770004  0.009557     1.669998                 NaN  \n",
      "3  199.660004     199.660004  0.012872     2.850006                 NaN  \n",
      "4  202.229996     202.229996  0.012511     4.610001                 NaN  \n"
     ]
    }
   ],
   "source": [
    "# Write your code below.\n",
    "pd_feat = dd_feat.compute()\n",
    "pd_feat.reset_index(inplace=True)\n",
    "pd_feat['rolling_avg_return'] = pd_feat.groupby('ticker')['returns'].rolling(window=10).mean().reset_index(level=0, drop=True)\n",
    "\n",
    "print(pd_feat.head())"
   ]
  },
  {
   "cell_type": "markdown",
   "metadata": {},
   "source": [
    "It is no neccessary to convert to pandas to calculate. \n",
    "It is better to do it in Dask, the benefit of doing in Dask is, the code is more simple and consistent, it avoid to switch between different data libraries and ensure all transformation are in good order. Moreover, Dask operation like rolling() and .mean() designed to handle large datasets."
   ]
  },
  {
   "cell_type": "markdown",
   "metadata": {},
   "source": [
    "Please comment:\n",
    "\n",
    "+ Was it necessary to convert to pandas to calculate the moving average return?\n",
    "+ Would it have been better to do it in Dask? Why?\n",
    "\n",
    "(1 pt)"
   ]
  },
  {
   "cell_type": "markdown",
   "metadata": {},
   "source": [
    "## Criteria\n",
    "\n",
    "|Criteria|Complete|Incomplete|\n",
    "|---------------------|----|----|\n",
    "|Calculations         |Calculations were done correctly.|Calculations were not done correctly.|\n",
    "|Explanation of answer|Answer was concise and explained the learner's reasoning in depth.|Answer was not concise and did not explained the learner's reasoning in depth.|"
   ]
  },
  {
   "cell_type": "markdown",
   "metadata": {},
   "source": [
    "## Submission Information\n",
    "\n",
    "🚨 **Please review our [Assignment Submission Guide](https://github.com/UofT-DSI/onboarding/blob/main/onboarding_documents/submissions.md)** 🚨 for detailed instructions on how to format, branch, and submit your work. Following these guidelines is crucial for your submissions to be evaluated correctly.\n",
    "\n",
    "### Submission Parameters:\n",
    "* Submission Due Date: `HH:MM AM/PM - DD/MM/YYYY`\n",
    "* The branch name for your repo should be: `assignment-1`\n",
    "* What to submit for this assignment:\n",
    "    * This Jupyter Notebook (assignment_1.ipynb) should be populated and should be the only change in your pull request.\n",
    "* What the pull request link should look like for this assignment: `https://github.com/<your_github_username>/production/pull/<pr_id>`\n",
    "    * Open a private window in your browser. Copy and paste the link to your pull request into the address bar. Make sure you can see your pull request properly. This helps the technical facilitator and learning support staff review your submission easily.\n",
    "\n",
    "Checklist:\n",
    "- [ ] Created a branch with the correct naming convention.\n",
    "- [ ] Ensured that the repository is public.\n",
    "- [ ] Reviewed the PR description guidelines and adhered to them.\n",
    "- [ ] Verify that the link is accessible in a private browser window.\n",
    "\n",
    "If you encounter any difficulties or have questions, please don't hesitate to reach out to our team via our Slack at `#cohort-3-help`. Our Technical Facilitators and Learning Support staff are here to help you navigate any challenges."
   ]
  }
 ],
 "metadata": {
  "kernelspec": {
   "display_name": "env",
   "language": "python",
   "name": "python3"
  },
  "language_info": {
   "codemirror_mode": {
    "name": "ipython",
    "version": 3
   },
   "file_extension": ".py",
   "mimetype": "text/x-python",
   "name": "python",
   "nbconvert_exporter": "python",
   "pygments_lexer": "ipython3",
   "version": "3.9.18"
  }
 },
 "nbformat": 4,
 "nbformat_minor": 2
}
